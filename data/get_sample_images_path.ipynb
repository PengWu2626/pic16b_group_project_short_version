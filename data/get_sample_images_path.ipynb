{
  "nbformat": 4,
  "nbformat_minor": 0,
  "metadata": {
    "colab": {
      "name": "get_sample_images_path.ipynb",
      "provenance": [],
      "collapsed_sections": []
    },
    "kernelspec": {
      "name": "python3",
      "display_name": "Python 3"
    },
    "language_info": {
      "name": "python"
    }
  },
  "cells": [
    {
      "cell_type": "markdown",
      "source": [
        "# Creating URLs path for Displaying in the Webapp\n",
        "\n",
        "Initially, I saved 10% of the training dataset (Stanford Dog Dataset) into our project image folder for displaying matched dog images in our web app. However, the folder is still significantly large, so I decided to upload the dataset into the Github repository then get all image links. So I can use URLs to get images in the web app without uploading large images."
      ],
      "metadata": {
        "id": "bZsZuLAhCBLC"
      }
    },
    {
      "cell_type": "code",
      "execution_count": 1,
      "metadata": {
        "id": "0jdgfJ4XJHrh"
      },
      "outputs": [],
      "source": [
        "import numpy as np\n",
        "import pandas as pd\n",
        "import os"
      ]
    },
    {
      "cell_type": "markdown",
      "source": [
        "I uploaded the training dataset into my Google drive first."
      ],
      "metadata": {
        "id": "YRednLISCAN_"
      }
    },
    {
      "cell_type": "code",
      "source": [
        "from google.colab import drive\n",
        "drive.mount('/content/drive')"
      ],
      "metadata": {
        "colab": {
          "base_uri": "https://localhost:8080/"
        },
        "id": "utAdaeQgJQt7",
        "outputId": "6b65206e-271e-4307-de62-b4b3fd7d1cbd"
      },
      "execution_count": 2,
      "outputs": [
        {
          "output_type": "stream",
          "name": "stdout",
          "text": [
            "Mounted at /content/drive\n"
          ]
        }
      ]
    },
    {
      "cell_type": "markdown",
      "source": [
        "Now, I will get the path where I saved my dataset."
      ],
      "metadata": {
        "id": "L5bzc6krIy59"
      }
    },
    {
      "cell_type": "code",
      "source": [
        "sample_image_folder_path = '/content/drive/MyDrive/dogdata/Images'"
      ],
      "metadata": {
        "id": "CiE14GonJ4AP"
      },
      "execution_count": 3,
      "outputs": []
    },
    {
      "cell_type": "markdown",
      "source": [
        "Now, let's loop over each images."
      ],
      "metadata": {
        "id": "Ve-735czI9L6"
      }
    },
    {
      "cell_type": "code",
      "source": [
        "path_list = []\n",
        "dog_name = []\n",
        "\n",
        "# loop over all 120 dog folders \n",
        "for root, directories, files in os.walk(sample_image_folder_path):\n",
        "  # inside each dog folder\n",
        "  for link in files:\n",
        "    get_path = os.path.join(root, link)\n",
        "    path_list.append(os.path.join(root, link))\n",
        "    dog_name.append(root.split('-')[-1])"
      ],
      "metadata": {
        "id": "QzcmrJzpJQv7"
      },
      "execution_count": 4,
      "outputs": []
    },
    {
      "cell_type": "markdown",
      "source": [
        "Let's check the first path."
      ],
      "metadata": {
        "id": "DYueptwzJcxS"
      }
    },
    {
      "cell_type": "code",
      "source": [
        "path_list[0]"
      ],
      "metadata": {
        "colab": {
          "base_uri": "https://localhost:8080/",
          "height": 37
        },
        "id": "NMDtmyFhK5Bu",
        "outputId": "765e8f22-9f57-4f09-f20e-567f8094853a"
      },
      "execution_count": 8,
      "outputs": [
        {
          "output_type": "execute_result",
          "data": {
            "application/vnd.google.colaboratory.intrinsic+json": {
              "type": "string"
            },
            "text/plain": [
              "'/content/drive/MyDrive/dogdata/Images/n02085620-Chihuahua/n02085620_1205.jpg'"
            ]
          },
          "metadata": {},
          "execution_count": 8
        }
      ]
    },
    {
      "cell_type": "markdown",
      "source": [
        "We do not need `/content/drive/MyDrive/SampleData/val/` at the front, so we should remove it."
      ],
      "metadata": {
        "id": "bsQEvuO9Jd4R"
      }
    },
    {
      "cell_type": "code",
      "source": [
        "dog_path=[]\n",
        "for x in path_list:\n",
        "  dog_path.append(x[38:])"
      ],
      "metadata": {
        "id": "4r3LrVJvKIzP"
      },
      "execution_count": 10,
      "outputs": []
    },
    {
      "cell_type": "markdown",
      "source": [
        "Now, let's check the first path to make sure."
      ],
      "metadata": {
        "id": "qlZkzLKaK6A9"
      }
    },
    {
      "cell_type": "code",
      "source": [
        "dog_path[0]"
      ],
      "metadata": {
        "colab": {
          "base_uri": "https://localhost:8080/",
          "height": 37
        },
        "id": "Jy-XKifyLGg3",
        "outputId": "2d0e500f-3a99-4b5e-c4af-10da0a724fdb"
      },
      "execution_count": 11,
      "outputs": [
        {
          "output_type": "execute_result",
          "data": {
            "application/vnd.google.colaboratory.intrinsic+json": {
              "type": "string"
            },
            "text/plain": [
              "'n02085620-Chihuahua/n02085620_1205.jpg'"
            ]
          },
          "metadata": {},
          "execution_count": 11
        }
      ]
    },
    {
      "cell_type": "markdown",
      "source": [
        "Next, I will change all the dog names to lowercase."
      ],
      "metadata": {
        "id": "qQGZHukqLHjF"
      }
    },
    {
      "cell_type": "code",
      "source": [
        "dog_name = np.asarray(dog_name)\n",
        "# change to lowercase for names\n",
        "dog_name = np.array([x.lower() if isinstance(x, str) else x for x in dog_name])"
      ],
      "metadata": {
        "id": "t2xfXwriJj9l"
      },
      "execution_count": 12,
      "outputs": []
    },
    {
      "cell_type": "markdown",
      "source": [
        "Let's check the first name."
      ],
      "metadata": {
        "id": "i1XACvGzLpRS"
      }
    },
    {
      "cell_type": "code",
      "source": [
        "dog_name[0]"
      ],
      "metadata": {
        "colab": {
          "base_uri": "https://localhost:8080/",
          "height": 37
        },
        "id": "Z9kzwSjOLM58",
        "outputId": "a5520b91-e452-4f7d-f138-0a7054eab6a5"
      },
      "execution_count": 13,
      "outputs": [
        {
          "output_type": "execute_result",
          "data": {
            "application/vnd.google.colaboratory.intrinsic+json": {
              "type": "string"
            },
            "text/plain": [
              "'chihuahua'"
            ]
          },
          "metadata": {},
          "execution_count": 13
        }
      ]
    },
    {
      "cell_type": "markdown",
      "source": [
        " Then, I will change all the paths to lowercase."
      ],
      "metadata": {
        "id": "3cnDCZqELt1U"
      }
    },
    {
      "cell_type": "code",
      "source": [
        "# change to lowercase for paths\n",
        "dog_path = np.array([x.lower() if isinstance(x, str) else x for x in dog_path])"
      ],
      "metadata": {
        "id": "V9MSLHAzJoBn"
      },
      "execution_count": 14,
      "outputs": []
    },
    {
      "cell_type": "markdown",
      "source": [
        "Let's check it again."
      ],
      "metadata": {
        "id": "rlojzY7jL4MK"
      }
    },
    {
      "cell_type": "code",
      "source": [
        "dog_path[0]"
      ],
      "metadata": {
        "colab": {
          "base_uri": "https://localhost:8080/",
          "height": 37
        },
        "id": "vBq0HhxyLVx_",
        "outputId": "6011df77-56c1-4fbb-c47a-852ef93b0cdf"
      },
      "execution_count": 15,
      "outputs": [
        {
          "output_type": "execute_result",
          "data": {
            "application/vnd.google.colaboratory.intrinsic+json": {
              "type": "string"
            },
            "text/plain": [
              "'n02085620-chihuahua/n02085620_1205.jpg'"
            ]
          },
          "metadata": {},
          "execution_count": 15
        }
      ]
    },
    {
      "cell_type": "markdown",
      "source": [
        "I noticed at my GitHub repository [pic16b-stanford-dog-dataset](https://github.com/PengWu2626/pic16b-stanford-dog-dataset/tree/main/images) where I uploaded the dataset that each image link begins with `repo_path` below."
      ],
      "metadata": {
        "id": "MOK07p6IL75r"
      }
    },
    {
      "cell_type": "code",
      "source": [
        "repo_path = str(\"https://raw.githubusercontent.com/PengWu2626/pic16b-stanford-dog-dataset/main/images/\")"
      ],
      "metadata": {
        "id": "ep7V-seYKP7q"
      },
      "execution_count": 16,
      "outputs": []
    },
    {
      "cell_type": "markdown",
      "source": [
        "Let's add the `repo_path` to all paths we got from early."
      ],
      "metadata": {
        "id": "5_YVy9unMmGV"
      }
    },
    {
      "cell_type": "code",
      "source": [
        "repo_path = np.asarray(repo_path)\n",
        "dog_image_path = np.char.add(repo_path, dog_path)"
      ],
      "metadata": {
        "id": "hwGDjYZOKSzl"
      },
      "execution_count": 17,
      "outputs": []
    },
    {
      "cell_type": "markdown",
      "source": [
        "Let's double check it."
      ],
      "metadata": {
        "id": "ID8seAgYM7xm"
      }
    },
    {
      "cell_type": "code",
      "source": [
        "dog_image_path[0]"
      ],
      "metadata": {
        "colab": {
          "base_uri": "https://localhost:8080/",
          "height": 37
        },
        "id": "6Oup9w4sLhbj",
        "outputId": "1d7b42ed-19c7-43e3-82ed-c7a2ff729941"
      },
      "execution_count": null,
      "outputs": [
        {
          "output_type": "execute_result",
          "data": {
            "application/vnd.google.colaboratory.intrinsic+json": {
              "type": "string"
            },
            "text/plain": [
              "'https://raw.githubusercontent.com/PengWu2626/pic16b-stanford-dog-dataset/main/images/n02085620-chihuahua/n02085620_1205.jpg'"
            ]
          },
          "metadata": {},
          "execution_count": 21
        }
      ]
    },
    {
      "cell_type": "markdown",
      "source": [
        "Excellent, now we can click that link to get the image."
      ],
      "metadata": {
        "id": "ZZKprSkmNGf3"
      }
    },
    {
      "cell_type": "markdown",
      "source": [
        "Let's create a dataframe for each image link with the name of the associated dog breed."
      ],
      "metadata": {
        "id": "_VfTGwTVNQwf"
      }
    },
    {
      "cell_type": "code",
      "source": [
        "df = pd.DataFrame({'name':dog_name, 'path':dog_image_path})"
      ],
      "metadata": {
        "id": "2eC1vKUsLiW4"
      },
      "execution_count": 18,
      "outputs": []
    },
    {
      "cell_type": "markdown",
      "source": [
        "Let's check the dataframe."
      ],
      "metadata": {
        "id": "_wlOupqEMH-C"
      }
    },
    {
      "cell_type": "code",
      "source": [
        "df.head()"
      ],
      "metadata": {
        "colab": {
          "base_uri": "https://localhost:8080/",
          "height": 204
        },
        "id": "D68oY-mOLtBL",
        "outputId": "bc9e3b60-41ae-49ad-8dbd-5c27ef3447f9"
      },
      "execution_count": 19,
      "outputs": [
        {
          "output_type": "execute_result",
          "data": {
            "text/html": [
              "\n",
              "  <div id=\"df-3a5db598-07c4-4352-8378-60e96a9d8996\">\n",
              "    <div class=\"colab-df-container\">\n",
              "      <div>\n",
              "<style scoped>\n",
              "    .dataframe tbody tr th:only-of-type {\n",
              "        vertical-align: middle;\n",
              "    }\n",
              "\n",
              "    .dataframe tbody tr th {\n",
              "        vertical-align: top;\n",
              "    }\n",
              "\n",
              "    .dataframe thead th {\n",
              "        text-align: right;\n",
              "    }\n",
              "</style>\n",
              "<table border=\"1\" class=\"dataframe\">\n",
              "  <thead>\n",
              "    <tr style=\"text-align: right;\">\n",
              "      <th></th>\n",
              "      <th>name</th>\n",
              "      <th>path</th>\n",
              "    </tr>\n",
              "  </thead>\n",
              "  <tbody>\n",
              "    <tr>\n",
              "      <th>0</th>\n",
              "      <td>chihuahua</td>\n",
              "      <td>https://raw.githubusercontent.com/PengWu2626/p...</td>\n",
              "    </tr>\n",
              "    <tr>\n",
              "      <th>1</th>\n",
              "      <td>chihuahua</td>\n",
              "      <td>https://raw.githubusercontent.com/PengWu2626/p...</td>\n",
              "    </tr>\n",
              "    <tr>\n",
              "      <th>2</th>\n",
              "      <td>chihuahua</td>\n",
              "      <td>https://raw.githubusercontent.com/PengWu2626/p...</td>\n",
              "    </tr>\n",
              "    <tr>\n",
              "      <th>3</th>\n",
              "      <td>chihuahua</td>\n",
              "      <td>https://raw.githubusercontent.com/PengWu2626/p...</td>\n",
              "    </tr>\n",
              "    <tr>\n",
              "      <th>4</th>\n",
              "      <td>chihuahua</td>\n",
              "      <td>https://raw.githubusercontent.com/PengWu2626/p...</td>\n",
              "    </tr>\n",
              "  </tbody>\n",
              "</table>\n",
              "</div>\n",
              "      <button class=\"colab-df-convert\" onclick=\"convertToInteractive('df-3a5db598-07c4-4352-8378-60e96a9d8996')\"\n",
              "              title=\"Convert this dataframe to an interactive table.\"\n",
              "              style=\"display:none;\">\n",
              "        \n",
              "  <svg xmlns=\"http://www.w3.org/2000/svg\" height=\"24px\"viewBox=\"0 0 24 24\"\n",
              "       width=\"24px\">\n",
              "    <path d=\"M0 0h24v24H0V0z\" fill=\"none\"/>\n",
              "    <path d=\"M18.56 5.44l.94 2.06.94-2.06 2.06-.94-2.06-.94-.94-2.06-.94 2.06-2.06.94zm-11 1L8.5 8.5l.94-2.06 2.06-.94-2.06-.94L8.5 2.5l-.94 2.06-2.06.94zm10 10l.94 2.06.94-2.06 2.06-.94-2.06-.94-.94-2.06-.94 2.06-2.06.94z\"/><path d=\"M17.41 7.96l-1.37-1.37c-.4-.4-.92-.59-1.43-.59-.52 0-1.04.2-1.43.59L10.3 9.45l-7.72 7.72c-.78.78-.78 2.05 0 2.83L4 21.41c.39.39.9.59 1.41.59.51 0 1.02-.2 1.41-.59l7.78-7.78 2.81-2.81c.8-.78.8-2.07 0-2.86zM5.41 20L4 18.59l7.72-7.72 1.47 1.35L5.41 20z\"/>\n",
              "  </svg>\n",
              "      </button>\n",
              "      \n",
              "  <style>\n",
              "    .colab-df-container {\n",
              "      display:flex;\n",
              "      flex-wrap:wrap;\n",
              "      gap: 12px;\n",
              "    }\n",
              "\n",
              "    .colab-df-convert {\n",
              "      background-color: #E8F0FE;\n",
              "      border: none;\n",
              "      border-radius: 50%;\n",
              "      cursor: pointer;\n",
              "      display: none;\n",
              "      fill: #1967D2;\n",
              "      height: 32px;\n",
              "      padding: 0 0 0 0;\n",
              "      width: 32px;\n",
              "    }\n",
              "\n",
              "    .colab-df-convert:hover {\n",
              "      background-color: #E2EBFA;\n",
              "      box-shadow: 0px 1px 2px rgba(60, 64, 67, 0.3), 0px 1px 3px 1px rgba(60, 64, 67, 0.15);\n",
              "      fill: #174EA6;\n",
              "    }\n",
              "\n",
              "    [theme=dark] .colab-df-convert {\n",
              "      background-color: #3B4455;\n",
              "      fill: #D2E3FC;\n",
              "    }\n",
              "\n",
              "    [theme=dark] .colab-df-convert:hover {\n",
              "      background-color: #434B5C;\n",
              "      box-shadow: 0px 1px 3px 1px rgba(0, 0, 0, 0.15);\n",
              "      filter: drop-shadow(0px 1px 2px rgba(0, 0, 0, 0.3));\n",
              "      fill: #FFFFFF;\n",
              "    }\n",
              "  </style>\n",
              "\n",
              "      <script>\n",
              "        const buttonEl =\n",
              "          document.querySelector('#df-3a5db598-07c4-4352-8378-60e96a9d8996 button.colab-df-convert');\n",
              "        buttonEl.style.display =\n",
              "          google.colab.kernel.accessAllowed ? 'block' : 'none';\n",
              "\n",
              "        async function convertToInteractive(key) {\n",
              "          const element = document.querySelector('#df-3a5db598-07c4-4352-8378-60e96a9d8996');\n",
              "          const dataTable =\n",
              "            await google.colab.kernel.invokeFunction('convertToInteractive',\n",
              "                                                     [key], {});\n",
              "          if (!dataTable) return;\n",
              "\n",
              "          const docLinkHtml = 'Like what you see? Visit the ' +\n",
              "            '<a target=\"_blank\" href=https://colab.research.google.com/notebooks/data_table.ipynb>data table notebook</a>'\n",
              "            + ' to learn more about interactive tables.';\n",
              "          element.innerHTML = '';\n",
              "          dataTable['output_type'] = 'display_data';\n",
              "          await google.colab.output.renderOutput(dataTable, element);\n",
              "          const docLink = document.createElement('div');\n",
              "          docLink.innerHTML = docLinkHtml;\n",
              "          element.appendChild(docLink);\n",
              "        }\n",
              "      </script>\n",
              "    </div>\n",
              "  </div>\n",
              "  "
            ],
            "text/plain": [
              "        name                                               path\n",
              "0  chihuahua  https://raw.githubusercontent.com/PengWu2626/p...\n",
              "1  chihuahua  https://raw.githubusercontent.com/PengWu2626/p...\n",
              "2  chihuahua  https://raw.githubusercontent.com/PengWu2626/p...\n",
              "3  chihuahua  https://raw.githubusercontent.com/PengWu2626/p...\n",
              "4  chihuahua  https://raw.githubusercontent.com/PengWu2626/p..."
            ]
          },
          "metadata": {},
          "execution_count": 19
        }
      ]
    },
    {
      "cell_type": "markdown",
      "source": [
        "Finally, let's saved the dataframe called `dog_sample_images_path.csv` so I can use it in our web app."
      ],
      "metadata": {
        "id": "zbNPwxXZNqpu"
      }
    },
    {
      "cell_type": "code",
      "source": [
        "df.to_csv('dog_sample_images_path.csv', index=False)"
      ],
      "metadata": {
        "id": "7wiCln60Lun1"
      },
      "execution_count": 20,
      "outputs": []
    }
  ]
}